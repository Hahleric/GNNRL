{
 "cells": [
  {
   "cell_type": "code",
   "execution_count": null,
   "id": "initial_id",
   "metadata": {
    "collapsed": true
   },
   "outputs": [],
   "source": [
    "import numpy\n",
    "\n",
    "import GCNAgent\n",
    "import environment\n",
    "import GCNAgent as Agent\n",
    "from GCNAgent import mini_batch_train\n",
    "from model import ActorGCN, CriticGCN\n",
    "from utils.data_preprocess import create_rating_matrix, get_ratings, create_top_100_rating_matrix, get_user_rated_movies\n",
    "import numpy as np\n",
    "import torch\n"
   ]
  },
  {
   "cell_type": "code",
   "execution_count": null,
   "outputs": [],
   "source": [
    "V2I_min = 100  # minimum required data rate for V2I Communication\n",
    "bandwidth = int(540000)\n",
    "bandwidth_mbs = int(1000000)\n",
    "\n",
    "data_set_path = 'ml-10M100K/ratings.dat'\n",
    "user_ratings = create_top_100_rating_matrix(data_set_path)\n",
    "cache_size = 40\n",
    "request_data = get_user_rated_movies(data_set_path)"
   ],
   "metadata": {
    "collapsed": false
   },
   "id": "f9943e8061cb0ac6"
  }
 ],
 "metadata": {
  "kernelspec": {
   "display_name": "Python 3",
   "language": "python",
   "name": "python3"
  },
  "language_info": {
   "codemirror_mode": {
    "name": "ipython",
    "version": 2
   },
   "file_extension": ".py",
   "mimetype": "text/x-python",
   "name": "python",
   "nbconvert_exporter": "python",
   "pygments_lexer": "ipython2",
   "version": "2.7.6"
  }
 },
 "nbformat": 4,
 "nbformat_minor": 5
}
