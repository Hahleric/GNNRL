{
 "cells": [
  {
   "cell_type": "code",
   "execution_count": null,
   "id": "initial_id",
   "metadata": {
    "collapsed": true,
    "is_executing": true,
    "ExecuteTime": {
     "start_time": "2024-03-26T23:26:56.602072Z"
    }
   },
   "outputs": [],
   "source": [
    "import numpy\n",
    "\n",
    "import GCNAgent\n",
    "import environment\n",
    "import GCNAgent as Agent\n",
    "from GCNAgent import mini_batch_train\n",
    "from model import ActorGCN, CriticGCN\n",
    "from utils.data_preprocess import create_rating_matrix, get_ratings, create_top_100_rating_matrix, get_user_rated_movies, \\\n",
    "    get_top_100_popular_movies\n",
    "import numpy as np\n",
    "import torch\n"
   ]
  },
  {
   "cell_type": "code",
   "execution_count": null,
   "outputs": [],
   "source": [
    "V2I_min = 100  # minimum required data rate for V2I Communication\n",
    "bandwidth = int(540000)\n",
    "bandwidth_mbs = int(1000000)\n",
    "\n",
    "data_set_path = 'ml-10M100K/ratings.dat'\n",
    "user_ratings = create_top_100_rating_matrix(data_set_path)\n",
    "cache_size = 40\n",
    "request_data = get_user_rated_movies(data_set_path)\n",
    "popular_files = get_top_100_popular_movies(data_set_path)"
   ],
   "metadata": {
    "collapsed": false
   },
   "id": "f9943e8061cb0ac6"
  },
  {
   "cell_type": "code",
   "execution_count": null,
   "outputs": [],
   "source": [
    "sampled_users = np.random.choice(user_ratings.shape[0], 100)\n",
    "env = environment.Environment(40, user_ratings)\n",
    "agent = GCNAgent.GCNAgent(cache_size, 32)\n",
    "reward, cache_efficiency, request_delay = mini_batch_train(env, agent, 30, 100, 32,request_data, 0, 0, 0, 0)\n",
    "\n"
   ],
   "metadata": {
    "collapsed": false
   },
   "id": "b5912b781e8b3bb2"
  }
 ],
 "metadata": {
  "kernelspec": {
   "display_name": "Python 3",
   "language": "python",
   "name": "python3"
  },
  "language_info": {
   "codemirror_mode": {
    "name": "ipython",
    "version": 2
   },
   "file_extension": ".py",
   "mimetype": "text/x-python",
   "name": "python",
   "nbconvert_exporter": "python",
   "pygments_lexer": "ipython2",
   "version": "2.7.6"
  }
 },
 "nbformat": 4,
 "nbformat_minor": 5
}
